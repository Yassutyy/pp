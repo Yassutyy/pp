{
 "cells": [
  {
   "cell_type": "markdown",
   "id": "689a3a31-84ed-46c9-b907-df55eff10caa",
   "metadata": {},
   "source": [
    "# Car Price Prediction project using Multiple Linear Regression"
   ]
  },
  {
   "cell_type": "markdown",
   "id": "33f5f647-810f-4d5d-92e5-a986fc84e20c",
   "metadata": {},
   "source": [
    "## Execution Process\n",
    " 1. Importing the dataset\n",
    "\n",
    " 2. Data preprocessing\n",
    "\n",
    " 3. Feature Engineering\n",
    "\n",
    " 4. Visualization\n",
    "\n",
    " 5. Model building using Multiple Linear Regression\n",
    "\n",
    " 6. Model evaluation\n",
    "\n",
    " 7. Saving the model\n",
    "\n",
    " 8. Streamlit deployment"
   ]
  },
  {
   "cell_type": "markdown",
   "id": "958bd330-633e-4f56-89d9-1e5608f6213d",
   "metadata": {},
   "source": [
    "# 1. Import Required Libraries"
   ]
  },
  {
   "cell_type": "code",
   "execution_count": 63,
   "id": "4fd12cfa-d4a8-4eac-ae0e-738ad3573270",
   "metadata": {},
   "outputs": [],
   "source": [
    "import pandas as pd\n",
    "import numpy as np\n",
    "import matplotlib.pyplot as plt\n",
    "import seaborn as sns"
   ]
  },
  {
   "cell_type": "markdown",
   "id": "778aa7ec-afa9-436f-8509-780d8735b040",
   "metadata": {},
   "source": [
    "## Load the Dataset"
   ]
  },
  {
   "cell_type": "code",
   "execution_count": 64,
   "id": "abb9c0b6-7882-4768-9ed2-fd0779eb83f5",
   "metadata": {},
   "outputs": [],
   "source": [
    "df = pd.read_csv('car_data_set.csv')"
   ]
  },
  {
   "cell_type": "markdown",
   "id": "763946db-f2e8-47dc-8408-ac010b232905",
   "metadata": {},
   "source": [
    "## 2. Data preprocessing"
   ]
  },
  {
   "cell_type": "code",
   "execution_count": 65,
   "id": "2feb3dbb-300c-4233-ad12-d41eddae19ab",
   "metadata": {},
   "outputs": [
    {
     "data": {
      "text/html": [
       "<div>\n",
       "<style scoped>\n",
       "    .dataframe tbody tr th:only-of-type {\n",
       "        vertical-align: middle;\n",
       "    }\n",
       "\n",
       "    .dataframe tbody tr th {\n",
       "        vertical-align: top;\n",
       "    }\n",
       "\n",
       "    .dataframe thead th {\n",
       "        text-align: right;\n",
       "    }\n",
       "</style>\n",
       "<table border=\"1\" class=\"dataframe\">\n",
       "  <thead>\n",
       "    <tr style=\"text-align: right;\">\n",
       "      <th></th>\n",
       "      <th>Brand</th>\n",
       "      <th>Year</th>\n",
       "      <th>Selling_Price</th>\n",
       "      <th>KM_Driven</th>\n",
       "      <th>Fuel</th>\n",
       "    </tr>\n",
       "  </thead>\n",
       "  <tbody>\n",
       "    <tr>\n",
       "      <th>0</th>\n",
       "      <td>Maruti</td>\n",
       "      <td>2007</td>\n",
       "      <td>60000</td>\n",
       "      <td>70000</td>\n",
       "      <td>Petrol</td>\n",
       "    </tr>\n",
       "    <tr>\n",
       "      <th>1</th>\n",
       "      <td>Maruti</td>\n",
       "      <td>2007</td>\n",
       "      <td>135000</td>\n",
       "      <td>50000</td>\n",
       "      <td>Petrol</td>\n",
       "    </tr>\n",
       "    <tr>\n",
       "      <th>2</th>\n",
       "      <td>Hyundai</td>\n",
       "      <td>2012</td>\n",
       "      <td>600000</td>\n",
       "      <td>100000</td>\n",
       "      <td>Diesel</td>\n",
       "    </tr>\n",
       "    <tr>\n",
       "      <th>3</th>\n",
       "      <td>Datsun</td>\n",
       "      <td>2017</td>\n",
       "      <td>250000</td>\n",
       "      <td>46000</td>\n",
       "      <td>Petrol</td>\n",
       "    </tr>\n",
       "    <tr>\n",
       "      <th>4</th>\n",
       "      <td>Honda</td>\n",
       "      <td>2014</td>\n",
       "      <td>450000</td>\n",
       "      <td>141000</td>\n",
       "      <td>Diesel</td>\n",
       "    </tr>\n",
       "  </tbody>\n",
       "</table>\n",
       "</div>"
      ],
      "text/plain": [
       "     Brand  Year  Selling_Price  KM_Driven    Fuel\n",
       "0   Maruti  2007          60000      70000  Petrol\n",
       "1   Maruti  2007         135000      50000  Petrol\n",
       "2  Hyundai  2012         600000     100000  Diesel\n",
       "3   Datsun  2017         250000      46000  Petrol\n",
       "4    Honda  2014         450000     141000  Diesel"
      ]
     },
     "execution_count": 65,
     "metadata": {},
     "output_type": "execute_result"
    }
   ],
   "source": [
    "df.head()"
   ]
  },
  {
   "cell_type": "code",
   "execution_count": 66,
   "id": "17265a31-3805-43ce-9023-895039fdf4d6",
   "metadata": {},
   "outputs": [
    {
     "name": "stdout",
     "output_type": "stream",
     "text": [
      "<class 'pandas.core.frame.DataFrame'>\n",
      "RangeIndex: 4340 entries, 0 to 4339\n",
      "Data columns (total 5 columns):\n",
      " #   Column         Non-Null Count  Dtype \n",
      "---  ------         --------------  ----- \n",
      " 0   Brand          4340 non-null   object\n",
      " 1   Year           4340 non-null   int64 \n",
      " 2   Selling_Price  4340 non-null   int64 \n",
      " 3   KM_Driven      4340 non-null   int64 \n",
      " 4   Fuel           4340 non-null   object\n",
      "dtypes: int64(3), object(2)\n",
      "memory usage: 169.7+ KB\n"
     ]
    }
   ],
   "source": [
    "df.info()"
   ]
  },
  {
   "cell_type": "code",
   "execution_count": 67,
   "id": "9eaa19a9-cdee-4074-b52d-b2f1aba5acd1",
   "metadata": {},
   "outputs": [
    {
     "data": {
      "text/html": [
       "<div>\n",
       "<style scoped>\n",
       "    .dataframe tbody tr th:only-of-type {\n",
       "        vertical-align: middle;\n",
       "    }\n",
       "\n",
       "    .dataframe tbody tr th {\n",
       "        vertical-align: top;\n",
       "    }\n",
       "\n",
       "    .dataframe thead th {\n",
       "        text-align: right;\n",
       "    }\n",
       "</style>\n",
       "<table border=\"1\" class=\"dataframe\">\n",
       "  <thead>\n",
       "    <tr style=\"text-align: right;\">\n",
       "      <th></th>\n",
       "      <th>Year</th>\n",
       "      <th>Selling_Price</th>\n",
       "      <th>KM_Driven</th>\n",
       "    </tr>\n",
       "  </thead>\n",
       "  <tbody>\n",
       "    <tr>\n",
       "      <th>count</th>\n",
       "      <td>4340.000000</td>\n",
       "      <td>4.340000e+03</td>\n",
       "      <td>4340.000000</td>\n",
       "    </tr>\n",
       "    <tr>\n",
       "      <th>mean</th>\n",
       "      <td>2013.090783</td>\n",
       "      <td>5.041273e+05</td>\n",
       "      <td>66215.777419</td>\n",
       "    </tr>\n",
       "    <tr>\n",
       "      <th>std</th>\n",
       "      <td>4.215344</td>\n",
       "      <td>5.785487e+05</td>\n",
       "      <td>46644.102194</td>\n",
       "    </tr>\n",
       "    <tr>\n",
       "      <th>min</th>\n",
       "      <td>1992.000000</td>\n",
       "      <td>2.000000e+04</td>\n",
       "      <td>1.000000</td>\n",
       "    </tr>\n",
       "    <tr>\n",
       "      <th>25%</th>\n",
       "      <td>2011.000000</td>\n",
       "      <td>2.087498e+05</td>\n",
       "      <td>35000.000000</td>\n",
       "    </tr>\n",
       "    <tr>\n",
       "      <th>50%</th>\n",
       "      <td>2014.000000</td>\n",
       "      <td>3.500000e+05</td>\n",
       "      <td>60000.000000</td>\n",
       "    </tr>\n",
       "    <tr>\n",
       "      <th>75%</th>\n",
       "      <td>2016.000000</td>\n",
       "      <td>6.000000e+05</td>\n",
       "      <td>90000.000000</td>\n",
       "    </tr>\n",
       "    <tr>\n",
       "      <th>max</th>\n",
       "      <td>2020.000000</td>\n",
       "      <td>8.900000e+06</td>\n",
       "      <td>806599.000000</td>\n",
       "    </tr>\n",
       "  </tbody>\n",
       "</table>\n",
       "</div>"
      ],
      "text/plain": [
       "              Year  Selling_Price      KM_Driven\n",
       "count  4340.000000   4.340000e+03    4340.000000\n",
       "mean   2013.090783   5.041273e+05   66215.777419\n",
       "std       4.215344   5.785487e+05   46644.102194\n",
       "min    1992.000000   2.000000e+04       1.000000\n",
       "25%    2011.000000   2.087498e+05   35000.000000\n",
       "50%    2014.000000   3.500000e+05   60000.000000\n",
       "75%    2016.000000   6.000000e+05   90000.000000\n",
       "max    2020.000000   8.900000e+06  806599.000000"
      ]
     },
     "execution_count": 67,
     "metadata": {},
     "output_type": "execute_result"
    }
   ],
   "source": [
    "df.describe()"
   ]
  },
  {
   "cell_type": "markdown",
   "id": "4791d143-fc34-4d3c-8358-dba70a057b21",
   "metadata": {},
   "source": [
    "## Checking the NULL values"
   ]
  },
  {
   "cell_type": "code",
   "execution_count": 68,
   "id": "53125b10-7023-42c1-8c24-da541318fe3a",
   "metadata": {},
   "outputs": [
    {
     "data": {
      "text/plain": [
       "Brand            0\n",
       "Year             0\n",
       "Selling_Price    0\n",
       "KM_Driven        0\n",
       "Fuel             0\n",
       "dtype: int64"
      ]
     },
     "execution_count": 68,
     "metadata": {},
     "output_type": "execute_result"
    }
   ],
   "source": [
    "df.isnull().sum()"
   ]
  },
  {
   "cell_type": "markdown",
   "id": "f0b2dee1-e63d-4c8a-849c-0be42b101af5",
   "metadata": {},
   "source": [
    "## Checking the duplicate values"
   ]
  },
  {
   "cell_type": "code",
   "execution_count": 69,
   "id": "d2d16dbc-d74f-4887-aa8e-0f1ecedfad61",
   "metadata": {},
   "outputs": [
    {
     "data": {
      "text/plain": [
       "np.int64(822)"
      ]
     },
     "execution_count": 69,
     "metadata": {},
     "output_type": "execute_result"
    }
   ],
   "source": [
    "df.duplicated().sum()"
   ]
  },
  {
   "cell_type": "markdown",
   "id": "25c5b9e8-9d66-4f75-a923-20fda1d4804a",
   "metadata": {},
   "source": [
    "# 3. Feature Engineering"
   ]
  },
  {
   "cell_type": "code",
   "execution_count": 70,
   "id": "551fe034-49a1-4a1e-9978-e47f9533b08f",
   "metadata": {},
   "outputs": [],
   "source": [
    "from sklearn.preprocessing import LabelEncoder\n",
    "le_brand = LabelEncoder()\n",
    "le_fuel = LabelEncoder()\n",
    "\n",
    "df['Brand'] = le_brand.fit_transform(df['Brand'])\n",
    "df['Fuel'] = le_fuel.fit_transform(df['Fuel'])"
   ]
  },
  {
   "cell_type": "code",
   "execution_count": 71,
   "id": "b7902d6f-3fc8-4f6f-b465-30e25798204c",
   "metadata": {},
   "outputs": [],
   "source": [
    "df['Brand'] = df['Brand'].astype('category').cat.codes\n",
    "df['Fuel'] = df['Fuel'].astype('category').cat.codes"
   ]
  },
  {
   "cell_type": "markdown",
   "id": "639a730e-c97c-410d-8c1a-330802722f8f",
   "metadata": {},
   "source": [
    "# 4. Data Visualization"
   ]
  },
  {
   "cell_type": "markdown",
   "id": "b9c2d16f-aa0f-49d4-85e8-b146fe02ebaf",
   "metadata": {},
   "source": [
    "## A. Selling Price Distribution using Histogram"
   ]
  },
  {
   "cell_type": "code",
   "execution_count": 72,
   "id": "ae58885c-8ad8-4328-a3bc-d9f6c3a51bdb",
   "metadata": {},
   "outputs": [
    {
     "data": {
      "application/vnd.plotly.v1+json": {
       "config": {
        "plotlyServerURL": "https://plot.ly"
       },
       "data": [
        {
         "bingroup": "x",
         "hovertemplate": "Selling Price=%{x}<br>count=%{y}<extra></extra>",
         "legendgroup": "",
         "marker": {
          "color": "#636efa",
          "pattern": {
           "shape": ""
          }
         },
         "name": "",
         "nbinsx": 50,
         "orientation": "v",
         "showlegend": false,
         "type": "histogram",
         "x": {
          "bdata": "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",
          "dtype": "i4"
         },
         "xaxis": "x",
         "yaxis": "y"
        }
       ],
       "layout": {
        "bargap": 0.1,
        "barmode": "relative",
        "height": 500,
        "legend": {
         "tracegroupgap": 0
        },
        "template": {
         "data": {
          "bar": [
           {
            "error_x": {
             "color": "#2a3f5f"
            },
            "error_y": {
             "color": "#2a3f5f"
            },
            "marker": {
             "line": {
              "color": "white",
              "width": 0.5
             },
             "pattern": {
              "fillmode": "overlay",
              "size": 10,
              "solidity": 0.2
             }
            },
            "type": "bar"
           }
          ],
          "barpolar": [
           {
            "marker": {
             "line": {
              "color": "white",
              "width": 0.5
             },
             "pattern": {
              "fillmode": "overlay",
              "size": 10,
              "solidity": 0.2
             }
            },
            "type": "barpolar"
           }
          ],
          "carpet": [
           {
            "aaxis": {
             "endlinecolor": "#2a3f5f",
             "gridcolor": "#C8D4E3",
             "linecolor": "#C8D4E3",
             "minorgridcolor": "#C8D4E3",
             "startlinecolor": "#2a3f5f"
            },
            "baxis": {
             "endlinecolor": "#2a3f5f",
             "gridcolor": "#C8D4E3",
             "linecolor": "#C8D4E3",
             "minorgridcolor": "#C8D4E3",
             "startlinecolor": "#2a3f5f"
            },
            "type": "carpet"
           }
          ],
          "choropleth": [
           {
            "colorbar": {
             "outlinewidth": 0,
             "ticks": ""
            },
            "type": "choropleth"
           }
          ],
          "contour": [
           {
            "colorbar": {
             "outlinewidth": 0,
             "ticks": ""
            },
            "colorscale": [
             [
              0,
              "#0d0887"
             ],
             [
              0.1111111111111111,
              "#46039f"
             ],
             [
              0.2222222222222222,
              "#7201a8"
             ],
             [
              0.3333333333333333,
              "#9c179e"
             ],
             [
              0.4444444444444444,
              "#bd3786"
             ],
             [
              0.5555555555555556,
              "#d8576b"
             ],
             [
              0.6666666666666666,
              "#ed7953"
             ],
             [
              0.7777777777777778,
              "#fb9f3a"
             ],
             [
              0.8888888888888888,
              "#fdca26"
             ],
             [
              1,
              "#f0f921"
             ]
            ],
            "type": "contour"
           }
          ],
          "contourcarpet": [
           {
            "colorbar": {
             "outlinewidth": 0,
             "ticks": ""
            },
            "type": "contourcarpet"
           }
          ],
          "heatmap": [
           {
            "colorbar": {
             "outlinewidth": 0,
             "ticks": ""
            },
            "colorscale": [
             [
              0,
              "#0d0887"
             ],
             [
              0.1111111111111111,
              "#46039f"
             ],
             [
              0.2222222222222222,
              "#7201a8"
             ],
             [
              0.3333333333333333,
              "#9c179e"
             ],
             [
              0.4444444444444444,
              "#bd3786"
             ],
             [
              0.5555555555555556,
              "#d8576b"
             ],
             [
              0.6666666666666666,
              "#ed7953"
             ],
             [
              0.7777777777777778,
              "#fb9f3a"
             ],
             [
              0.8888888888888888,
              "#fdca26"
             ],
             [
              1,
              "#f0f921"
             ]
            ],
            "type": "heatmap"
           }
          ],
          "histogram": [
           {
            "marker": {
             "pattern": {
              "fillmode": "overlay",
              "size": 10,
              "solidity": 0.2
             }
            },
            "type": "histogram"
           }
          ],
          "histogram2d": [
           {
            "colorbar": {
             "outlinewidth": 0,
             "ticks": ""
            },
            "colorscale": [
             [
              0,
              "#0d0887"
             ],
             [
              0.1111111111111111,
              "#46039f"
             ],
             [
              0.2222222222222222,
              "#7201a8"
             ],
             [
              0.3333333333333333,
              "#9c179e"
             ],
             [
              0.4444444444444444,
              "#bd3786"
             ],
             [
              0.5555555555555556,
              "#d8576b"
             ],
             [
              0.6666666666666666,
              "#ed7953"
             ],
             [
              0.7777777777777778,
              "#fb9f3a"
             ],
             [
              0.8888888888888888,
              "#fdca26"
             ],
             [
              1,
              "#f0f921"
             ]
            ],
            "type": "histogram2d"
           }
          ],
          "histogram2dcontour": [
           {
            "colorbar": {
             "outlinewidth": 0,
             "ticks": ""
            },
            "colorscale": [
             [
              0,
              "#0d0887"
             ],
             [
              0.1111111111111111,
              "#46039f"
             ],
             [
              0.2222222222222222,
              "#7201a8"
             ],
             [
              0.3333333333333333,
              "#9c179e"
             ],
             [
              0.4444444444444444,
              "#bd3786"
             ],
             [
              0.5555555555555556,
              "#d8576b"
             ],
             [
              0.6666666666666666,
              "#ed7953"
             ],
             [
              0.7777777777777778,
              "#fb9f3a"
             ],
             [
              0.8888888888888888,
              "#fdca26"
             ],
             [
              1,
              "#f0f921"
             ]
            ],
            "type": "histogram2dcontour"
           }
          ],
          "mesh3d": [
           {
            "colorbar": {
             "outlinewidth": 0,
             "ticks": ""
            },
            "type": "mesh3d"
           }
          ],
          "parcoords": [
           {
            "line": {
             "colorbar": {
              "outlinewidth": 0,
              "ticks": ""
             }
            },
            "type": "parcoords"
           }
          ],
          "pie": [
           {
            "automargin": true,
            "type": "pie"
           }
          ],
          "scatter": [
           {
            "fillpattern": {
             "fillmode": "overlay",
             "size": 10,
             "solidity": 0.2
            },
            "type": "scatter"
           }
          ],
          "scatter3d": [
           {
            "line": {
             "colorbar": {
              "outlinewidth": 0,
              "ticks": ""
             }
            },
            "marker": {
             "colorbar": {
              "outlinewidth": 0,
              "ticks": ""
             }
            },
            "type": "scatter3d"
           }
          ],
          "scattercarpet": [
           {
            "marker": {
             "colorbar": {
              "outlinewidth": 0,
              "ticks": ""
             }
            },
            "type": "scattercarpet"
           }
          ],
          "scattergeo": [
           {
            "marker": {
             "colorbar": {
              "outlinewidth": 0,
              "ticks": ""
             }
            },
            "type": "scattergeo"
           }
          ],
          "scattergl": [
           {
            "marker": {
             "colorbar": {
              "outlinewidth": 0,
              "ticks": ""
             }
            },
            "type": "scattergl"
           }
          ],
          "scattermap": [
           {
            "marker": {
             "colorbar": {
              "outlinewidth": 0,
              "ticks": ""
             }
            },
            "type": "scattermap"
           }
          ],
          "scattermapbox": [
           {
            "marker": {
             "colorbar": {
              "outlinewidth": 0,
              "ticks": ""
             }
            },
            "type": "scattermapbox"
           }
          ],
          "scatterpolar": [
           {
            "marker": {
             "colorbar": {
              "outlinewidth": 0,
              "ticks": ""
             }
            },
            "type": "scatterpolar"
           }
          ],
          "scatterpolargl": [
           {
            "marker": {
             "colorbar": {
              "outlinewidth": 0,
              "ticks": ""
             }
            },
            "type": "scatterpolargl"
           }
          ],
          "scatterternary": [
           {
            "marker": {
             "colorbar": {
              "outlinewidth": 0,
              "ticks": ""
             }
            },
            "type": "scatterternary"
           }
          ],
          "surface": [
           {
            "colorbar": {
             "outlinewidth": 0,
             "ticks": ""
            },
            "colorscale": [
             [
              0,
              "#0d0887"
             ],
             [
              0.1111111111111111,
              "#46039f"
             ],
             [
              0.2222222222222222,
              "#7201a8"
             ],
             [
              0.3333333333333333,
              "#9c179e"
             ],
             [
              0.4444444444444444,
              "#bd3786"
             ],
             [
              0.5555555555555556,
              "#d8576b"
             ],
             [
              0.6666666666666666,
              "#ed7953"
             ],
             [
              0.7777777777777778,
              "#fb9f3a"
             ],
             [
              0.8888888888888888,
              "#fdca26"
             ],
             [
              1,
              "#f0f921"
             ]
            ],
            "type": "surface"
           }
          ],
          "table": [
           {
            "cells": {
             "fill": {
              "color": "#EBF0F8"
             },
             "line": {
              "color": "white"
             }
            },
            "header": {
             "fill": {
              "color": "#C8D4E3"
             },
             "line": {
              "color": "white"
             }
            },
            "type": "table"
           }
          ]
         },
         "layout": {
          "annotationdefaults": {
           "arrowcolor": "#2a3f5f",
           "arrowhead": 0,
           "arrowwidth": 1
          },
          "autotypenumbers": "strict",
          "coloraxis": {
           "colorbar": {
            "outlinewidth": 0,
            "ticks": ""
           }
          },
          "colorscale": {
           "diverging": [
            [
             0,
             "#8e0152"
            ],
            [
             0.1,
             "#c51b7d"
            ],
            [
             0.2,
             "#de77ae"
            ],
            [
             0.3,
             "#f1b6da"
            ],
            [
             0.4,
             "#fde0ef"
            ],
            [
             0.5,
             "#f7f7f7"
            ],
            [
             0.6,
             "#e6f5d0"
            ],
            [
             0.7,
             "#b8e186"
            ],
            [
             0.8,
             "#7fbc41"
            ],
            [
             0.9,
             "#4d9221"
            ],
            [
             1,
             "#276419"
            ]
           ],
           "sequential": [
            [
             0,
             "#0d0887"
            ],
            [
             0.1111111111111111,
             "#46039f"
            ],
            [
             0.2222222222222222,
             "#7201a8"
            ],
            [
             0.3333333333333333,
             "#9c179e"
            ],
            [
             0.4444444444444444,
             "#bd3786"
            ],
            [
             0.5555555555555556,
             "#d8576b"
            ],
            [
             0.6666666666666666,
             "#ed7953"
            ],
            [
             0.7777777777777778,
             "#fb9f3a"
            ],
            [
             0.8888888888888888,
             "#fdca26"
            ],
            [
             1,
             "#f0f921"
            ]
           ],
           "sequentialminus": [
            [
             0,
             "#0d0887"
            ],
            [
             0.1111111111111111,
             "#46039f"
            ],
            [
             0.2222222222222222,
             "#7201a8"
            ],
            [
             0.3333333333333333,
             "#9c179e"
            ],
            [
             0.4444444444444444,
             "#bd3786"
            ],
            [
             0.5555555555555556,
             "#d8576b"
            ],
            [
             0.6666666666666666,
             "#ed7953"
            ],
            [
             0.7777777777777778,
             "#fb9f3a"
            ],
            [
             0.8888888888888888,
             "#fdca26"
            ],
            [
             1,
             "#f0f921"
            ]
           ]
          },
          "colorway": [
           "#636efa",
           "#EF553B",
           "#00cc96",
           "#ab63fa",
           "#FFA15A",
           "#19d3f3",
           "#FF6692",
           "#B6E880",
           "#FF97FF",
           "#FECB52"
          ],
          "font": {
           "color": "#2a3f5f"
          },
          "geo": {
           "bgcolor": "white",
           "lakecolor": "white",
           "landcolor": "white",
           "showlakes": true,
           "showland": true,
           "subunitcolor": "#C8D4E3"
          },
          "hoverlabel": {
           "align": "left"
          },
          "hovermode": "closest",
          "mapbox": {
           "style": "light"
          },
          "paper_bgcolor": "white",
          "plot_bgcolor": "white",
          "polar": {
           "angularaxis": {
            "gridcolor": "#EBF0F8",
            "linecolor": "#EBF0F8",
            "ticks": ""
           },
           "bgcolor": "white",
           "radialaxis": {
            "gridcolor": "#EBF0F8",
            "linecolor": "#EBF0F8",
            "ticks": ""
           }
          },
          "scene": {
           "xaxis": {
            "backgroundcolor": "white",
            "gridcolor": "#DFE8F3",
            "gridwidth": 2,
            "linecolor": "#EBF0F8",
            "showbackground": true,
            "ticks": "",
            "zerolinecolor": "#EBF0F8"
           },
           "yaxis": {
            "backgroundcolor": "white",
            "gridcolor": "#DFE8F3",
            "gridwidth": 2,
            "linecolor": "#EBF0F8",
            "showbackground": true,
            "ticks": "",
            "zerolinecolor": "#EBF0F8"
           },
           "zaxis": {
            "backgroundcolor": "white",
            "gridcolor": "#DFE8F3",
            "gridwidth": 2,
            "linecolor": "#EBF0F8",
            "showbackground": true,
            "ticks": "",
            "zerolinecolor": "#EBF0F8"
           }
          },
          "shapedefaults": {
           "line": {
            "color": "#2a3f5f"
           }
          },
          "ternary": {
           "aaxis": {
            "gridcolor": "#DFE8F3",
            "linecolor": "#A2B1C6",
            "ticks": ""
           },
           "baxis": {
            "gridcolor": "#DFE8F3",
            "linecolor": "#A2B1C6",
            "ticks": ""
           },
           "bgcolor": "white",
           "caxis": {
            "gridcolor": "#DFE8F3",
            "linecolor": "#A2B1C6",
            "ticks": ""
           }
          },
          "title": {
           "x": 0.05
          },
          "xaxis": {
           "automargin": true,
           "gridcolor": "#EBF0F8",
           "linecolor": "#EBF0F8",
           "ticks": "",
           "title": {
            "standoff": 15
           },
           "zerolinecolor": "#EBF0F8",
           "zerolinewidth": 2
          },
          "yaxis": {
           "automargin": true,
           "gridcolor": "#EBF0F8",
           "linecolor": "#EBF0F8",
           "ticks": "",
           "title": {
            "standoff": 15
           },
           "zerolinecolor": "#EBF0F8",
           "zerolinewidth": 2
          }
         }
        },
        "title": {
         "text": "Selling Price Distribution"
        },
        "width": 800,
        "xaxis": {
         "anchor": "y",
         "domain": [
          0,
          1
         ],
         "title": {
          "text": "Selling Price"
         }
        },
        "yaxis": {
         "anchor": "x",
         "domain": [
          0,
          1
         ],
         "title": {
          "text": "Count"
         }
        }
       }
      }
     },
     "metadata": {},
     "output_type": "display_data"
    }
   ],
   "source": [
    "import plotly.express as px\n",
    "fig = px.histogram(df, x='Selling_Price',nbins=50,title='Selling Price Distribution',labels={'Selling_Price': 'Selling Price'},template='plotly_white')\n",
    "fig.update_layout(\n",
    "    xaxis_title='Selling Price',\n",
    "    yaxis_title='Count',\n",
    "    bargap=0.1,\n",
    "    width=800,\n",
    "    height=500\n",
    ")\n",
    "fig.show()\n"
   ]
  },
  {
   "cell_type": "markdown",
   "id": "a6145ec0-a37f-4759-b2d4-43cf24a8d405",
   "metadata": {},
   "source": [
    "## B. Selling Price Distribution by Fuel Type\n"
   ]
  },
  {
   "cell_type": "code",
   "execution_count": 73,
   "id": "1f046381-0539-494a-9162-5e67e1a783aa",
   "metadata": {},
   "outputs": [
    {
     "data": {
      "application/vnd.plotly.v1+json": {
       "config": {
        "plotlyServerURL": "https://plot.ly"
       },
       "data": [
        {
         "alignmentgroup": "True",
         "hovertemplate": "Fuel Type=%{x}<br>Selling Price (₹)=%{y}<extra></extra>",
         "legendgroup": "4",
         "marker": {
          "color": "#636efa"
         },
         "name": "4",
         "notched": false,
         "offsetgroup": "4",
         "orientation": "v",
         "quartilemethod": "inclusive",
         "showlegend": true,
         "type": "box",
         "x": {
          "bdata": "BAQEBAQEBAQEBAQEBAQEBAQEBAQEBAQEBAQEBAQEBAQEBAQEBAQEBAQEBAQEBAQEBAQEBAQEBAQEBAQEBAQEBAQEBAQEBAQEBAQEBAQEBAQEBAQEBAQEBAQEBAQEBAQEBAQEBAQEBAQEBAQEBAQEBAQEBAQEBAQEBAQEBAQEBAQEBAQEBAQEBAQEBAQEBAQEBAQEBAQEBAQEBAQEBAQEBAQEBAQEBAQEBAQEBAQEBAQEBAQEBAQEBAQEBAQEBAQEBAQEBAQEBAQEBAQEBAQEBAQEBAQEBAQEBAQEBAQEBAQEBAQEBAQEBAQEBAQEBAQEBAQEBAQEBAQEBAQEBAQEBAQEBAQEBAQEBAQEBAQEBAQEBAQEBAQEBAQEBAQEBAQEBAQEBAQEBAQEBAQEBAQEBAQEBAQEBAQEBAQEBAQEBAQEBAQEBAQEBAQEBAQEBAQEBAQEBAQEBAQEBAQEBAQEBAQEBAQEBAQEBAQEBAQEBAQEBAQEBAQEBAQEBAQEBAQEBAQEBAQEBAQEBAQEBAQEBAQEBAQEBAQEBAQEBAQEBAQEBAQEBAQEBAQEBAQEBAQEBAQEBAQEBAQEBAQEBAQEBAQEBAQEBAQEBAQEBAQEBAQEBAQEBAQEBAQEBAQEBAQEBAQEBAQEBAQEBAQEBAQEBAQEBAQEBAQEBAQEBAQEBAQEBAQEBAQEBAQEBAQEBAQEBAQEBAQEBAQEBAQEBAQEBAQEBAQEBAQEBAQEBAQEBAQEBAQEBAQEBAQEBAQEBAQEBAQEBAQEBAQEBAQEBAQEBAQEBAQEBAQEBAQEBAQEBAQEBAQEBAQEBAQEBAQEBAQEBAQEBAQEBAQEBAQEBAQEBAQEBAQEBAQEBAQEBAQEBAQEBAQEBAQEBAQEBAQEBAQEBAQEBAQEBAQEBAQEBAQEBAQEBAQEBAQEBAQEBAQEBAQEBAQEBAQEBAQEBAQEBAQEBAQEBAQEBAQEBAQEBAQEBAQEBAQEBAQEBAQEBAQEBAQEBAQEBAQEBAQEBAQEBAQEBAQEBAQEBAQEBAQEBAQEBAQEBAQEBAQEBAQEBAQEBAQEBAQEBAQEBAQEBAQEBAQEBAQEBAQEBAQEBAQEBAQEBAQEBAQEBAQEBAQEBAQEBAQEBAQEBAQEBAQEBAQEBAQEBAQEBAQEBAQEBAQEBAQEBAQEBAQEBAQEBAQEBAQEBAQEBAQEBAQEBAQEBAQEBAQEBAQEBAQEBAQEBAQEBAQEBAQEBAQEBAQEBAQEBAQEBAQEBAQEBAQEBAQEBAQEBAQEBAQEBAQEBAQEBAQEBAQEBAQEBAQEBAQEBAQEBAQEBAQEBAQEBAQEBAQEBAQEBAQEBAQEBAQEBAQEBAQEBAQEBAQEBAQEBAQEBAQEBAQEBAQEBAQEBAQEBAQEBAQEBAQEBAQEBAQEBAQEBAQEBAQEBAQEBAQEBAQEBAQEBAQEBAQEBAQEBAQEBAQEBAQEBAQEBAQEBAQEBAQEBAQEBAQEBAQEBAQEBAQEBAQEBAQEBAQEBAQEBAQEBAQEBAQEBAQEBAQEBAQEBAQEBAQEBAQEBAQEBAQEBAQEBAQEBAQEBAQEBAQEBAQEBAQEBAQEBAQEBAQEBAQEBAQEBAQEBAQEBAQEBAQEBAQEBAQEBAQEBAQEBAQEBAQEBAQEBAQEBAQEBAQEBAQEBAQEBAQEBAQEBAQEBAQEBAQEBAQEBAQEBAQEBAQEBAQEBAQEBAQEBAQEBAQEBAQEBAQEBAQEBAQEBAQEBAQEBAQEBAQEBAQEBAQEBAQEBAQEBAQEBAQEBAQEBAQEBAQEBAQEBAQEBAQEBAQEBAQEBAQEBAQEBAQEBAQEBAQEBAQEBAQEBAQEBAQEBAQEBAQEBAQEBAQEBAQEBAQEBAQEBAQEBAQEBAQEBAQEBAQEBAQEBAQEBAQEBAQEBAQEBAQEBAQEBAQEBAQEBAQEBAQEBAQEBAQEBAQEBAQEBAQEBAQEBAQEBAQEBAQEBAQEBAQEBAQEBAQEBAQEBAQEBAQEBAQEBAQEBAQEBAQEBAQEBAQEBAQEBAQEBAQEBAQEBAQEBAQEBAQEBAQEBAQEBAQEBAQEBAQEBAQEBAQEBAQEBAQEBAQEBAQEBAQEBAQEBAQEBAQEBAQEBAQEBAQEBAQEBAQEBAQEBAQEBAQEBAQEBAQEBAQEBAQEBAQEBAQEBAQEBAQEBAQEBAQEBAQEBAQEBAQEBAQEBAQEBAQEBAQEBAQEBAQEBAQEBAQEBAQEBAQEBAQEBAQEBAQEBAQEBAQEBAQEBAQEBAQEBAQEBAQEBAQEBAQEBAQEBAQEBAQEBAQEBAQEBAQEBAQEBAQEBAQEBAQEBAQEBAQEBAQEBAQEBAQEBAQEBAQEBAQEBAQEBAQEBAQEBAQEBAQEBAQEBAQEBAQEBAQEBAQEBAQEBAQEBAQEBAQEBAQEBAQEBAQEBAQEBAQEBAQEBAQEBAQEBAQEBAQEBAQEBAQEBAQEBAQEBAQEBAQEBAQEBAQEBAQEBAQEBAQEBAQEBAQEBAQEBAQEBAQEBAQEBAQEBAQEBAQEBAQEBAQEBAQEBAQEBAQEBAQEBAQEBAQEBAQEBAQEBAQEBAQEBAQEBAQEBAQEBAQEBAQEBAQEBAQEBAQEBAQEBAQEBAQEBAQEBAQEBAQEBAQEBAQEBAQEBAQEBAQEBAQEBAQEBAQEBAQEBAQEBAQEBAQEBAQEBAQEBAQEBAQEBAQEBAQEBAQEBAQEBAQEBAQEBAQEBAQEBAQEBAQEBAQEBAQEBAQEBAQEBAQEBAQEBAQEBAQEBAQEBAQEBAQEBAQEBAQEBAQEBAQEBAQEBAQEBAQEBAQEBAQ=",
          "dtype": "i1"
         },
         "x0": " ",
         "xaxis": "x",
         "y": {
          "bdata": "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",
          "dtype": "i4"
         },
         "y0": " ",
         "yaxis": "y"
        },
        {
         "alignmentgroup": "True",
         "hovertemplate": "Fuel Type=%{x}<br>Selling Price (₹)=%{y}<extra></extra>",
         "legendgroup": "1",
         "marker": {
          "color": "#EF553B"
         },
         "name": "1",
         "notched": false,
         "offsetgroup": "1",
         "orientation": "v",
         "quartilemethod": "inclusive",
         "showlegend": true,
         "type": "box",
         "x": {
          "bdata": "AQEBAQEBAQEBAQEBAQEBAQEBAQEBAQEBAQEBAQEBAQEBAQEBAQEBAQEBAQEBAQEBAQEBAQEBAQEBAQEBAQEBAQEBAQEBAQEBAQEBAQEBAQEBAQEBAQEBAQEBAQEBAQEBAQEBAQEBAQEBAQEBAQEBAQEBAQEBAQEBAQEBAQEBAQEBAQEBAQEBAQEBAQEBAQEBAQEBAQEBAQEBAQEBAQEBAQEBAQEBAQEBAQEBAQEBAQEBAQEBAQEBAQEBAQEBAQEBAQEBAQEBAQEBAQEBAQEBAQEBAQEBAQEBAQEBAQEBAQEBAQEBAQEBAQEBAQEBAQEBAQEBAQEBAQEBAQEBAQEBAQEBAQEBAQEBAQEBAQEBAQEBAQEBAQEBAQEBAQEBAQEBAQEBAQEBAQEBAQEBAQEBAQEBAQEBAQEBAQEBAQEBAQEBAQEBAQEBAQEBAQEBAQEBAQEBAQEBAQEBAQEBAQEBAQEBAQEBAQEBAQEBAQEBAQEBAQEBAQEBAQEBAQEBAQEBAQEBAQEBAQEBAQEBAQEBAQEBAQEBAQEBAQEBAQEBAQEBAQEBAQEBAQEBAQEBAQEBAQEBAQEBAQEBAQEBAQEBAQEBAQEBAQEBAQEBAQEBAQEBAQEBAQEBAQEBAQEBAQEBAQEBAQEBAQEBAQEBAQEBAQEBAQEBAQEBAQEBAQEBAQEBAQEBAQEBAQEBAQEBAQEBAQEBAQEBAQEBAQEBAQEBAQEBAQEBAQEBAQEBAQEBAQEBAQEBAQEBAQEBAQEBAQEBAQEBAQEBAQEBAQEBAQEBAQEBAQEBAQEBAQEBAQEBAQEBAQEBAQEBAQEBAQEBAQEBAQEBAQEBAQEBAQEBAQEBAQEBAQEBAQEBAQEBAQEBAQEBAQEBAQEBAQEBAQEBAQEBAQEBAQEBAQEBAQEBAQEBAQEBAQEBAQEBAQEBAQEBAQEBAQEBAQEBAQEBAQEBAQEBAQEBAQEBAQEBAQEBAQEBAQEBAQEBAQEBAQEBAQEBAQEBAQEBAQEBAQEBAQEBAQEBAQEBAQEBAQEBAQEBAQEBAQEBAQEBAQEBAQEBAQEBAQEBAQEBAQEBAQEBAQEBAQEBAQEBAQEBAQEBAQEBAQEBAQEBAQEBAQEBAQEBAQEBAQEBAQEBAQEBAQEBAQEBAQEBAQEBAQEBAQEBAQEBAQEBAQEBAQEBAQEBAQEBAQEBAQEBAQEBAQEBAQEBAQEBAQEBAQEBAQEBAQEBAQEBAQEBAQEBAQEBAQEBAQEBAQEBAQEBAQEBAQEBAQEBAQEBAQEBAQEBAQEBAQEBAQEBAQEBAQEBAQEBAQEBAQEBAQEBAQEBAQEBAQEBAQEBAQEBAQEBAQEBAQEBAQEBAQEBAQEBAQEBAQEBAQEBAQEBAQEBAQEBAQEBAQEBAQEBAQEBAQEBAQEBAQEBAQEBAQEBAQEBAQEBAQEBAQEBAQEBAQEBAQEBAQEBAQEBAQEBAQEBAQEBAQEBAQEBAQEBAQEBAQEBAQEBAQEBAQEBAQEBAQEBAQEBAQEBAQEBAQEBAQEBAQEBAQEBAQEBAQEBAQEBAQEBAQEBAQEBAQEBAQEBAQEBAQEBAQEBAQEBAQEBAQEBAQEBAQEBAQEBAQEBAQEBAQEBAQEBAQEBAQEBAQEBAQEBAQEBAQEBAQEBAQEBAQEBAQEBAQEBAQEBAQEBAQEBAQEBAQEBAQEBAQEBAQEBAQEBAQEBAQEBAQEBAQEBAQEBAQEBAQEBAQEBAQEBAQEBAQEBAQEBAQEBAQEBAQEBAQEBAQEBAQEBAQEBAQEBAQEBAQEBAQEBAQEBAQEBAQEBAQEBAQEBAQEBAQEBAQEBAQEBAQEBAQEBAQEBAQEBAQEBAQEBAQEBAQEBAQEBAQEBAQEBAQEBAQEBAQEBAQEBAQEBAQEBAQEBAQEBAQEBAQEBAQEBAQEBAQEBAQEBAQEBAQEBAQEBAQEBAQEBAQEBAQEBAQEBAQEBAQEBAQEBAQEBAQEBAQEBAQEBAQEBAQEBAQEBAQEBAQEBAQEBAQEBAQEBAQEBAQEBAQEBAQEBAQEBAQEBAQEBAQEBAQEBAQEBAQEBAQEBAQEBAQEBAQEBAQEBAQEBAQEBAQEBAQEBAQEBAQEBAQEBAQEBAQEBAQEBAQEBAQEBAQEBAQEBAQEBAQEBAQEBAQEBAQEBAQEBAQEBAQEBAQEBAQEBAQEBAQEBAQEBAQEBAQEBAQEBAQEBAQEBAQEBAQEBAQEBAQEBAQEBAQEBAQEBAQEBAQEBAQEBAQEBAQEBAQEBAQEBAQEBAQEBAQEBAQEBAQEBAQEBAQEBAQEBAQEBAQEBAQEBAQEBAQEBAQEBAQEBAQEBAQEBAQEBAQEBAQEBAQEBAQEBAQEBAQEBAQEBAQEBAQEBAQEBAQEBAQEBAQEBAQEBAQEBAQEBAQEBAQEBAQEBAQEBAQEBAQEBAQEBAQEBAQEBAQEBAQEBAQEBAQEBAQEBAQEBAQEBAQEBAQEBAQEBAQEBAQEBAQEBAQEBAQEBAQEBAQEBAQEBAQEBAQEBAQEBAQEBAQEBAQEBAQEBAQEBAQEBAQEBAQEBAQEBAQEBAQEBAQEBAQEBAQEBAQEBAQEBAQEBAQEBAQEBAQEBAQEBAQEBAQEBAQEBAQEBAQEBAQEBAQEBAQEBAQEBAQEBAQEBAQEBAQEBAQEBAQEBAQEBAQEBAQEBAQEBAQEBAQEBAQEBAQEBAQEBAQEBAQEBAQEBAQEBAQEBAQEBAQEBAQEBAQEBAQEBAQEBAQEBAQEBAQEBAQEBAQEBAQEBAQEBAQEBAQEBAQEBAQEBAQEBAQEBAQEBAQEBAQEBAQEBAQEBAQEBAQEBAQEBAQEBAQEBAQEBAQEBAQEBAQEBAQEBAQEBAQE=",
          "dtype": "i1"
         },
         "x0": " ",
         "xaxis": "x",
         "y": {
          "bdata": "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",
          "dtype": "i4"
         },
         "y0": " ",
         "yaxis": "y"
        },
        {
         "alignmentgroup": "True",
         "hovertemplate": "Fuel Type=%{x}<br>Selling Price (₹)=%{y}<extra></extra>",
         "legendgroup": "0",
         "marker": {
          "color": "#00cc96"
         },
         "name": "0",
         "notched": false,
         "offsetgroup": "0",
         "orientation": "v",
         "quartilemethod": "inclusive",
         "showlegend": true,
         "type": "box",
         "x": {
          "bdata": "AAAAAAAAAAAAAAAAAAAAAAAAAAAAAAAAAAAAAAAAAAAAAAAAAAAAAA==",
          "dtype": "i1"
         },
         "x0": " ",
         "xaxis": "x",
         "y": {
          "bdata": "yJEFAMiRBQCQTQQAqNICAG+CAwDQ+wEAkF8BAMgCCAAQmAIAAHECAJDQAwCQ0AMAaDYCAG+CAwAAcQIA4JMEADBXBQDQ+wEAwFcBABCYAgBA7wcA4JMEAGg2AgDIrwAA8CsHAPC6BACYjQcACL0DAPj0CAAAcQIAiPUEALj5AgCo0gIA8CsHALCtAQDIkQUAwLYGADgUCQCPQQYA4CICAA==",
          "dtype": "i4"
         },
         "y0": " ",
         "yaxis": "y"
        },
        {
         "alignmentgroup": "True",
         "hovertemplate": "Fuel Type=%{x}<br>Selling Price (₹)=%{y}<extra></extra>",
         "legendgroup": "3",
         "marker": {
          "color": "#ab63fa"
         },
         "name": "3",
         "notched": false,
         "offsetgroup": "3",
         "orientation": "v",
         "quartilemethod": "inclusive",
         "showlegend": true,
         "type": "box",
         "x": {
          "bdata": "AwMDAwMDAwMDAwMDAwMDAwMDAwMDAwM=",
          "dtype": "i1"
         },
         "x0": " ",
         "xaxis": "x",
         "y": {
          "bdata": "UDQDAIA4AQAgvwIAkNADAJDQAwBvggMAYFsDANBsBAAgvwIAUMMAAAhMAQB4XQIASOgBADgyBACAOAEAgKkDAGDqAACghgEAQA0DABCYAgDA1AEAgKkDAHARAQA=",
          "dtype": "i4"
         },
         "y0": " ",
         "yaxis": "y"
        },
        {
         "alignmentgroup": "True",
         "hovertemplate": "Fuel Type=%{x}<br>Selling Price (₹)=%{y}<extra></extra>",
         "legendgroup": "2",
         "marker": {
          "color": "#FFA15A"
         },
         "name": "2",
         "notched": false,
         "offsetgroup": "2",
         "orientation": "v",
         "quartilemethod": "inclusive",
         "showlegend": true,
         "type": "box",
         "x": {
          "bdata": "Ag==",
          "dtype": "i1"
         },
         "x0": " ",
         "xaxis": "x",
         "y": {
          "bdata": "8LoEAA==",
          "dtype": "i4"
         },
         "y0": " ",
         "yaxis": "y"
        }
       ],
       "layout": {
        "boxmode": "overlay",
        "height": 500,
        "legend": {
         "title": {
          "text": "Fuel Type"
         },
         "tracegroupgap": 0
        },
        "template": {
         "data": {
          "bar": [
           {
            "error_x": {
             "color": "#2a3f5f"
            },
            "error_y": {
             "color": "#2a3f5f"
            },
            "marker": {
             "line": {
              "color": "white",
              "width": 0.5
             },
             "pattern": {
              "fillmode": "overlay",
              "size": 10,
              "solidity": 0.2
             }
            },
            "type": "bar"
           }
          ],
          "barpolar": [
           {
            "marker": {
             "line": {
              "color": "white",
              "width": 0.5
             },
             "pattern": {
              "fillmode": "overlay",
              "size": 10,
              "solidity": 0.2
             }
            },
            "type": "barpolar"
           }
          ],
          "carpet": [
           {
            "aaxis": {
             "endlinecolor": "#2a3f5f",
             "gridcolor": "#C8D4E3",
             "linecolor": "#C8D4E3",
             "minorgridcolor": "#C8D4E3",
             "startlinecolor": "#2a3f5f"
            },
            "baxis": {
             "endlinecolor": "#2a3f5f",
             "gridcolor": "#C8D4E3",
             "linecolor": "#C8D4E3",
             "minorgridcolor": "#C8D4E3",
             "startlinecolor": "#2a3f5f"
            },
            "type": "carpet"
           }
          ],
          "choropleth": [
           {
            "colorbar": {
             "outlinewidth": 0,
             "ticks": ""
            },
            "type": "choropleth"
           }
          ],
          "contour": [
           {
            "colorbar": {
             "outlinewidth": 0,
             "ticks": ""
            },
            "colorscale": [
             [
              0,
              "#0d0887"
             ],
             [
              0.1111111111111111,
              "#46039f"
             ],
             [
              0.2222222222222222,
              "#7201a8"
             ],
             [
              0.3333333333333333,
              "#9c179e"
             ],
             [
              0.4444444444444444,
              "#bd3786"
             ],
             [
              0.5555555555555556,
              "#d8576b"
             ],
             [
              0.6666666666666666,
              "#ed7953"
             ],
             [
              0.7777777777777778,
              "#fb9f3a"
             ],
             [
              0.8888888888888888,
              "#fdca26"
             ],
             [
              1,
              "#f0f921"
             ]
            ],
            "type": "contour"
           }
          ],
          "contourcarpet": [
           {
            "colorbar": {
             "outlinewidth": 0,
             "ticks": ""
            },
            "type": "contourcarpet"
           }
          ],
          "heatmap": [
           {
            "colorbar": {
             "outlinewidth": 0,
             "ticks": ""
            },
            "colorscale": [
             [
              0,
              "#0d0887"
             ],
             [
              0.1111111111111111,
              "#46039f"
             ],
             [
              0.2222222222222222,
              "#7201a8"
             ],
             [
              0.3333333333333333,
              "#9c179e"
             ],
             [
              0.4444444444444444,
              "#bd3786"
             ],
             [
              0.5555555555555556,
              "#d8576b"
             ],
             [
              0.6666666666666666,
              "#ed7953"
             ],
             [
              0.7777777777777778,
              "#fb9f3a"
             ],
             [
              0.8888888888888888,
              "#fdca26"
             ],
             [
              1,
              "#f0f921"
             ]
            ],
            "type": "heatmap"
           }
          ],
          "histogram": [
           {
            "marker": {
             "pattern": {
              "fillmode": "overlay",
              "size": 10,
              "solidity": 0.2
             }
            },
            "type": "histogram"
           }
          ],
          "histogram2d": [
           {
            "colorbar": {
             "outlinewidth": 0,
             "ticks": ""
            },
            "colorscale": [
             [
              0,
              "#0d0887"
             ],
             [
              0.1111111111111111,
              "#46039f"
             ],
             [
              0.2222222222222222,
              "#7201a8"
             ],
             [
              0.3333333333333333,
              "#9c179e"
             ],
             [
              0.4444444444444444,
              "#bd3786"
             ],
             [
              0.5555555555555556,
              "#d8576b"
             ],
             [
              0.6666666666666666,
              "#ed7953"
             ],
             [
              0.7777777777777778,
              "#fb9f3a"
             ],
             [
              0.8888888888888888,
              "#fdca26"
             ],
             [
              1,
              "#f0f921"
             ]
            ],
            "type": "histogram2d"
           }
          ],
          "histogram2dcontour": [
           {
            "colorbar": {
             "outlinewidth": 0,
             "ticks": ""
            },
            "colorscale": [
             [
              0,
              "#0d0887"
             ],
             [
              0.1111111111111111,
              "#46039f"
             ],
             [
              0.2222222222222222,
              "#7201a8"
             ],
             [
              0.3333333333333333,
              "#9c179e"
             ],
             [
              0.4444444444444444,
              "#bd3786"
             ],
             [
              0.5555555555555556,
              "#d8576b"
             ],
             [
              0.6666666666666666,
              "#ed7953"
             ],
             [
              0.7777777777777778,
              "#fb9f3a"
             ],
             [
              0.8888888888888888,
              "#fdca26"
             ],
             [
              1,
              "#f0f921"
             ]
            ],
            "type": "histogram2dcontour"
           }
          ],
          "mesh3d": [
           {
            "colorbar": {
             "outlinewidth": 0,
             "ticks": ""
            },
            "type": "mesh3d"
           }
          ],
          "parcoords": [
           {
            "line": {
             "colorbar": {
              "outlinewidth": 0,
              "ticks": ""
             }
            },
            "type": "parcoords"
           }
          ],
          "pie": [
           {
            "automargin": true,
            "type": "pie"
           }
          ],
          "scatter": [
           {
            "fillpattern": {
             "fillmode": "overlay",
             "size": 10,
             "solidity": 0.2
            },
            "type": "scatter"
           }
          ],
          "scatter3d": [
           {
            "line": {
             "colorbar": {
              "outlinewidth": 0,
              "ticks": ""
             }
            },
            "marker": {
             "colorbar": {
              "outlinewidth": 0,
              "ticks": ""
             }
            },
            "type": "scatter3d"
           }
          ],
          "scattercarpet": [
           {
            "marker": {
             "colorbar": {
              "outlinewidth": 0,
              "ticks": ""
             }
            },
            "type": "scattercarpet"
           }
          ],
          "scattergeo": [
           {
            "marker": {
             "colorbar": {
              "outlinewidth": 0,
              "ticks": ""
             }
            },
            "type": "scattergeo"
           }
          ],
          "scattergl": [
           {
            "marker": {
             "colorbar": {
              "outlinewidth": 0,
              "ticks": ""
             }
            },
            "type": "scattergl"
           }
          ],
          "scattermap": [
           {
            "marker": {
             "colorbar": {
              "outlinewidth": 0,
              "ticks": ""
             }
            },
            "type": "scattermap"
           }
          ],
          "scattermapbox": [
           {
            "marker": {
             "colorbar": {
              "outlinewidth": 0,
              "ticks": ""
             }
            },
            "type": "scattermapbox"
           }
          ],
          "scatterpolar": [
           {
            "marker": {
             "colorbar": {
              "outlinewidth": 0,
              "ticks": ""
             }
            },
            "type": "scatterpolar"
           }
          ],
          "scatterpolargl": [
           {
            "marker": {
             "colorbar": {
              "outlinewidth": 0,
              "ticks": ""
             }
            },
            "type": "scatterpolargl"
           }
          ],
          "scatterternary": [
           {
            "marker": {
             "colorbar": {
              "outlinewidth": 0,
              "ticks": ""
             }
            },
            "type": "scatterternary"
           }
          ],
          "surface": [
           {
            "colorbar": {
             "outlinewidth": 0,
             "ticks": ""
            },
            "colorscale": [
             [
              0,
              "#0d0887"
             ],
             [
              0.1111111111111111,
              "#46039f"
             ],
             [
              0.2222222222222222,
              "#7201a8"
             ],
             [
              0.3333333333333333,
              "#9c179e"
             ],
             [
              0.4444444444444444,
              "#bd3786"
             ],
             [
              0.5555555555555556,
              "#d8576b"
             ],
             [
              0.6666666666666666,
              "#ed7953"
             ],
             [
              0.7777777777777778,
              "#fb9f3a"
             ],
             [
              0.8888888888888888,
              "#fdca26"
             ],
             [
              1,
              "#f0f921"
             ]
            ],
            "type": "surface"
           }
          ],
          "table": [
           {
            "cells": {
             "fill": {
              "color": "#EBF0F8"
             },
             "line": {
              "color": "white"
             }
            },
            "header": {
             "fill": {
              "color": "#C8D4E3"
             },
             "line": {
              "color": "white"
             }
            },
            "type": "table"
           }
          ]
         },
         "layout": {
          "annotationdefaults": {
           "arrowcolor": "#2a3f5f",
           "arrowhead": 0,
           "arrowwidth": 1
          },
          "autotypenumbers": "strict",
          "coloraxis": {
           "colorbar": {
            "outlinewidth": 0,
            "ticks": ""
           }
          },
          "colorscale": {
           "diverging": [
            [
             0,
             "#8e0152"
            ],
            [
             0.1,
             "#c51b7d"
            ],
            [
             0.2,
             "#de77ae"
            ],
            [
             0.3,
             "#f1b6da"
            ],
            [
             0.4,
             "#fde0ef"
            ],
            [
             0.5,
             "#f7f7f7"
            ],
            [
             0.6,
             "#e6f5d0"
            ],
            [
             0.7,
             "#b8e186"
            ],
            [
             0.8,
             "#7fbc41"
            ],
            [
             0.9,
             "#4d9221"
            ],
            [
             1,
             "#276419"
            ]
           ],
           "sequential": [
            [
             0,
             "#0d0887"
            ],
            [
             0.1111111111111111,
             "#46039f"
            ],
            [
             0.2222222222222222,
             "#7201a8"
            ],
            [
             0.3333333333333333,
             "#9c179e"
            ],
            [
             0.4444444444444444,
             "#bd3786"
            ],
            [
             0.5555555555555556,
             "#d8576b"
            ],
            [
             0.6666666666666666,
             "#ed7953"
            ],
            [
             0.7777777777777778,
             "#fb9f3a"
            ],
            [
             0.8888888888888888,
             "#fdca26"
            ],
            [
             1,
             "#f0f921"
            ]
           ],
           "sequentialminus": [
            [
             0,
             "#0d0887"
            ],
            [
             0.1111111111111111,
             "#46039f"
            ],
            [
             0.2222222222222222,
             "#7201a8"
            ],
            [
             0.3333333333333333,
             "#9c179e"
            ],
            [
             0.4444444444444444,
             "#bd3786"
            ],
            [
             0.5555555555555556,
             "#d8576b"
            ],
            [
             0.6666666666666666,
             "#ed7953"
            ],
            [
             0.7777777777777778,
             "#fb9f3a"
            ],
            [
             0.8888888888888888,
             "#fdca26"
            ],
            [
             1,
             "#f0f921"
            ]
           ]
          },
          "colorway": [
           "#636efa",
           "#EF553B",
           "#00cc96",
           "#ab63fa",
           "#FFA15A",
           "#19d3f3",
           "#FF6692",
           "#B6E880",
           "#FF97FF",
           "#FECB52"
          ],
          "font": {
           "color": "#2a3f5f"
          },
          "geo": {
           "bgcolor": "white",
           "lakecolor": "white",
           "landcolor": "white",
           "showlakes": true,
           "showland": true,
           "subunitcolor": "#C8D4E3"
          },
          "hoverlabel": {
           "align": "left"
          },
          "hovermode": "closest",
          "mapbox": {
           "style": "light"
          },
          "paper_bgcolor": "white",
          "plot_bgcolor": "white",
          "polar": {
           "angularaxis": {
            "gridcolor": "#EBF0F8",
            "linecolor": "#EBF0F8",
            "ticks": ""
           },
           "bgcolor": "white",
           "radialaxis": {
            "gridcolor": "#EBF0F8",
            "linecolor": "#EBF0F8",
            "ticks": ""
           }
          },
          "scene": {
           "xaxis": {
            "backgroundcolor": "white",
            "gridcolor": "#DFE8F3",
            "gridwidth": 2,
            "linecolor": "#EBF0F8",
            "showbackground": true,
            "ticks": "",
            "zerolinecolor": "#EBF0F8"
           },
           "yaxis": {
            "backgroundcolor": "white",
            "gridcolor": "#DFE8F3",
            "gridwidth": 2,
            "linecolor": "#EBF0F8",
            "showbackground": true,
            "ticks": "",
            "zerolinecolor": "#EBF0F8"
           },
           "zaxis": {
            "backgroundcolor": "white",
            "gridcolor": "#DFE8F3",
            "gridwidth": 2,
            "linecolor": "#EBF0F8",
            "showbackground": true,
            "ticks": "",
            "zerolinecolor": "#EBF0F8"
           }
          },
          "shapedefaults": {
           "line": {
            "color": "#2a3f5f"
           }
          },
          "ternary": {
           "aaxis": {
            "gridcolor": "#DFE8F3",
            "linecolor": "#A2B1C6",
            "ticks": ""
           },
           "baxis": {
            "gridcolor": "#DFE8F3",
            "linecolor": "#A2B1C6",
            "ticks": ""
           },
           "bgcolor": "white",
           "caxis": {
            "gridcolor": "#DFE8F3",
            "linecolor": "#A2B1C6",
            "ticks": ""
           }
          },
          "title": {
           "x": 0.05
          },
          "xaxis": {
           "automargin": true,
           "gridcolor": "#EBF0F8",
           "linecolor": "#EBF0F8",
           "ticks": "",
           "title": {
            "standoff": 15
           },
           "zerolinecolor": "#EBF0F8",
           "zerolinewidth": 2
          },
          "yaxis": {
           "automargin": true,
           "gridcolor": "#EBF0F8",
           "linecolor": "#EBF0F8",
           "ticks": "",
           "title": {
            "standoff": 15
           },
           "zerolinecolor": "#EBF0F8",
           "zerolinewidth": 2
          }
         }
        },
        "title": {
         "text": "Selling Price by Fuel Type"
        },
        "width": 800,
        "xaxis": {
         "anchor": "y",
         "categoryarray": [
          4,
          1,
          0,
          3,
          2
         ],
         "categoryorder": "array",
         "domain": [
          0,
          1
         ],
         "title": {
          "text": "Fuel Type"
         }
        },
        "yaxis": {
         "anchor": "x",
         "domain": [
          0,
          1
         ],
         "title": {
          "text": "Selling Price (₹)"
         }
        }
       }
      },
      "image/png": "[encoded data removed]"
     },
     "metadata": {},
     "output_type": "display_data"
    }
   ],
   "source": [
    "import plotly.express as px\n",
    "fig = px.box(df,\n",
    "             x='Fuel',\n",
    "             y='Selling_Price',\n",
    "             color='Fuel',\n",
    "             title='Selling Price by Fuel Type',\n",
    "             labels={\n",
    "                 'Fuel': 'Fuel Type',\n",
    "                 'Selling_Price': 'Selling Price (₹)'\n",
    "             },\n",
    "             template='plotly_white',  \n",
    "             width=800,\n",
    "             height=500)\n",
    "fig.update_traces(quartilemethod=\"inclusive\")\n",
    "fig.show()"
   ]
  },
  {
   "cell_type": "markdown",
   "id": "3a0113c7-2e4f-40e8-b069-f3308f9ee2e9",
   "metadata": {},
   "source": [
    "# 1A. Multiple Linear Regression Model"
   ]
  },
  {
   "cell_type": "markdown",
   "id": "b5924bf7-579e-4d76-81a5-4cfeea32ec9b",
   "metadata": {},
   "source": [
    "## A. Splitting the Dataset"
   ]
  },
  {
   "cell_type": "code",
   "execution_count": 74,
   "id": "f7526beb-1a81-4d8d-befe-987a6259fea8",
   "metadata": {},
   "outputs": [],
   "source": [
    "from sklearn.model_selection import train_test_split\n",
    "\n",
    "X = df.drop('Selling_Price', axis=1)\n",
    "y = df['Selling_Price']\n",
    "\n",
    "X_train, X_test, y_train, y_test = train_test_split(X, y, test_size=0.2, random_state=42)"
   ]
  },
  {
   "cell_type": "markdown",
   "id": "478de288-6847-4981-a6f5-747c30d67da1",
   "metadata": {},
   "source": [
    "## B. Train the Model"
   ]
  },
  {
   "cell_type": "code",
   "execution_count": 75,
   "id": "e0952bb6-fba6-4393-920f-9366b1b47563",
   "metadata": {},
   "outputs": [
    {
     "data": {
      "text/html": [
       "<style>#sk-container-id-3 {\n",
       "  /* Definition of color scheme common for light and dark mode */\n",
       "  --sklearn-color-text: #000;\n",
       "  --sklearn-color-text-muted: #666;\n",
       "  --sklearn-color-line: gray;\n",
       "  /* Definition of color scheme for unfitted estimators */\n",
       "  --sklearn-color-unfitted-level-0: #fff5e6;\n",
       "  --sklearn-color-unfitted-level-1: #f6e4d2;\n",
       "  --sklearn-color-unfitted-level-2: #ffe0b3;\n",
       "  --sklearn-color-unfitted-level-3: chocolate;\n",
       "  /* Definition of color scheme for fitted estimators */\n",
       "  --sklearn-color-fitted-level-0: #f0f8ff;\n",
       "  --sklearn-color-fitted-level-1: #d4ebff;\n",
       "  --sklearn-color-fitted-level-2: #b3dbfd;\n",
       "  --sklearn-color-fitted-level-3: cornflowerblue;\n",
       "\n",
       "  /* Specific color for light theme */\n",
       "  --sklearn-color-text-on-default-background: var(--sg-text-color, var(--theme-code-foreground, var(--jp-content-font-color1, black)));\n",
       "  --sklearn-color-background: var(--sg-background-color, var(--theme-background, var(--jp-layout-color0, white)));\n",
       "  --sklearn-color-border-box: var(--sg-text-color, var(--theme-code-foreground, var(--jp-content-font-color1, black)));\n",
       "  --sklearn-color-icon: #696969;\n",
       "\n",
       "  @media (prefers-color-scheme: dark) {\n",
       "    /* Redefinition of color scheme for dark theme */\n",
       "    --sklearn-color-text-on-default-background: var(--sg-text-color, var(--theme-code-foreground, var(--jp-content-font-color1, white)));\n",
       "    --sklearn-color-background: var(--sg-background-color, var(--theme-background, var(--jp-layout-color0, #111)));\n",
       "    --sklearn-color-border-box: var(--sg-text-color, var(--theme-code-foreground, var(--jp-content-font-color1, white)));\n",
       "    --sklearn-color-icon: #878787;\n",
       "  }\n",
       "}\n",
       "\n",
       "#sk-container-id-3 {\n",
       "  color: var(--sklearn-color-text);\n",
       "}\n",
       "\n",
       "#sk-container-id-3 pre {\n",
       "  padding: 0;\n",
       "}\n",
       "\n",
       "#sk-container-id-3 input.sk-hidden--visually {\n",
       "  border: 0;\n",
       "  clip: rect(1px 1px 1px 1px);\n",
       "  clip: rect(1px, 1px, 1px, 1px);\n",
       "  height: 1px;\n",
       "  margin: -1px;\n",
       "  overflow: hidden;\n",
       "  padding: 0;\n",
       "  position: absolute;\n",
       "  width: 1px;\n",
       "}\n",
       "\n",
       "#sk-container-id-3 div.sk-dashed-wrapped {\n",
       "  border: 1px dashed var(--sklearn-color-line);\n",
       "  margin: 0 0.4em 0.5em 0.4em;\n",
       "  box-sizing: border-box;\n",
       "  padding-bottom: 0.4em;\n",
       "  background-color: var(--sklearn-color-background);\n",
       "}\n",
       "\n",
       "#sk-container-id-3 div.sk-container {\n",
       "  /* jupyter's `normalize.less` sets `[hidden] { display: none; }`\n",
       "     but bootstrap.min.css set `[hidden] { display: none !important; }`\n",
       "     so we also need the `!important` here to be able to override the\n",
       "     default hidden behavior on the sphinx rendered scikit-learn.org.\n",
       "     See: https://github.com/scikit-learn/scikit-learn/issues/21755 */\n",
       "  display: inline-block !important;\n",
       "  position: relative;\n",
       "}\n",
       "\n",
       "#sk-container-id-3 div.sk-text-repr-fallback {\n",
       "  display: none;\n",
       "}\n",
       "\n",
       "div.sk-parallel-item,\n",
       "div.sk-serial,\n",
       "div.sk-item {\n",
       "  /* draw centered vertical line to link estimators */\n",
       "  background-image: linear-gradient(var(--sklearn-color-text-on-default-background), var(--sklearn-color-text-on-default-background));\n",
       "  background-size: 2px 100%;\n",
       "  background-repeat: no-repeat;\n",
       "  background-position: center center;\n",
       "}\n",
       "\n",
       "/* Parallel-specific style estimator block */\n",
       "\n",
       "#sk-container-id-3 div.sk-parallel-item::after {\n",
       "  content: \"\";\n",
       "  width: 100%;\n",
       "  border-bottom: 2px solid var(--sklearn-color-text-on-default-background);\n",
       "  flex-grow: 1;\n",
       "}\n",
       "\n",
       "#sk-container-id-3 div.sk-parallel {\n",
       "  display: flex;\n",
       "  align-items: stretch;\n",
       "  justify-content: center;\n",
       "  background-color: var(--sklearn-color-background);\n",
       "  position: relative;\n",
       "}\n",
       "\n",
       "#sk-container-id-3 div.sk-parallel-item {\n",
       "  display: flex;\n",
       "  flex-direction: column;\n",
       "}\n",
       "\n",
       "#sk-container-id-3 div.sk-parallel-item:first-child::after {\n",
       "  align-self: flex-end;\n",
       "  width: 50%;\n",
       "}\n",
       "\n",
       "#sk-container-id-3 div.sk-parallel-item:last-child::after {\n",
       "  align-self: flex-start;\n",
       "  width: 50%;\n",
       "}\n",
       "\n",
       "#sk-container-id-3 div.sk-parallel-item:only-child::after {\n",
       "  width: 0;\n",
       "}\n",
       "\n",
       "/* Serial-specific style estimator block */\n",
       "\n",
       "#sk-container-id-3 div.sk-serial {\n",
       "  display: flex;\n",
       "  flex-direction: column;\n",
       "  align-items: center;\n",
       "  background-color: var(--sklearn-color-background);\n",
       "  padding-right: 1em;\n",
       "  padding-left: 1em;\n",
       "}\n",
       "\n",
       "\n",
       "/* Toggleable style: style used for estimator/Pipeline/ColumnTransformer box that is\n",
       "clickable and can be expanded/collapsed.\n",
       "- Pipeline and ColumnTransformer use this feature and define the default style\n",
       "- Estimators will overwrite some part of the style using the `sk-estimator` class\n",
       "*/\n",
       "\n",
       "/* Pipeline and ColumnTransformer style (default) */\n",
       "\n",
       "#sk-container-id-3 div.sk-toggleable {\n",
       "  /* Default theme specific background. It is overwritten whether we have a\n",
       "  specific estimator or a Pipeline/ColumnTransformer */\n",
       "  background-color: var(--sklearn-color-background);\n",
       "}\n",
       "\n",
       "/* Toggleable label */\n",
       "#sk-container-id-3 label.sk-toggleable__label {\n",
       "  cursor: pointer;\n",
       "  display: flex;\n",
       "  width: 100%;\n",
       "  margin-bottom: 0;\n",
       "  padding: 0.5em;\n",
       "  box-sizing: border-box;\n",
       "  text-align: center;\n",
       "  align-items: start;\n",
       "  justify-content: space-between;\n",
       "  gap: 0.5em;\n",
       "}\n",
       "\n",
       "#sk-container-id-3 label.sk-toggleable__label .caption {\n",
       "  font-size: 0.6rem;\n",
       "  font-weight: lighter;\n",
       "  color: var(--sklearn-color-text-muted);\n",
       "}\n",
       "\n",
       "#sk-container-id-3 label.sk-toggleable__label-arrow:before {\n",
       "  /* Arrow on the left of the label */\n",
       "  content: \"▸\";\n",
       "  float: left;\n",
       "  margin-right: 0.25em;\n",
       "  color: var(--sklearn-color-icon);\n",
       "}\n",
       "\n",
       "#sk-container-id-3 label.sk-toggleable__label-arrow:hover:before {\n",
       "  color: var(--sklearn-color-text);\n",
       "}\n",
       "\n",
       "/* Toggleable content - dropdown */\n",
       "\n",
       "#sk-container-id-3 div.sk-toggleable__content {\n",
       "  max-height: 0;\n",
       "  max-width: 0;\n",
       "  overflow: hidden;\n",
       "  text-align: left;\n",
       "  /* unfitted */\n",
       "  background-color: var(--sklearn-color-unfitted-level-0);\n",
       "}\n",
       "\n",
       "#sk-container-id-3 div.sk-toggleable__content.fitted {\n",
       "  /* fitted */\n",
       "  background-color: var(--sklearn-color-fitted-level-0);\n",
       "}\n",
       "\n",
       "#sk-container-id-3 div.sk-toggleable__content pre {\n",
       "  margin: 0.2em;\n",
       "  border-radius: 0.25em;\n",
       "  color: var(--sklearn-color-text);\n",
       "  /* unfitted */\n",
       "  background-color: var(--sklearn-color-unfitted-level-0);\n",
       "}\n",
       "\n",
       "#sk-container-id-3 div.sk-toggleable__content.fitted pre {\n",
       "  /* unfitted */\n",
       "  background-color: var(--sklearn-color-fitted-level-0);\n",
       "}\n",
       "\n",
       "#sk-container-id-3 input.sk-toggleable__control:checked~div.sk-toggleable__content {\n",
       "  /* Expand drop-down */\n",
       "  max-height: 200px;\n",
       "  max-width: 100%;\n",
       "  overflow: auto;\n",
       "}\n",
       "\n",
       "#sk-container-id-3 input.sk-toggleable__control:checked~label.sk-toggleable__label-arrow:before {\n",
       "  content: \"▾\";\n",
       "}\n",
       "\n",
       "/* Pipeline/ColumnTransformer-specific style */\n",
       "\n",
       "#sk-container-id-3 div.sk-label input.sk-toggleable__control:checked~label.sk-toggleable__label {\n",
       "  color: var(--sklearn-color-text);\n",
       "  background-color: var(--sklearn-color-unfitted-level-2);\n",
       "}\n",
       "\n",
       "#sk-container-id-3 div.sk-label.fitted input.sk-toggleable__control:checked~label.sk-toggleable__label {\n",
       "  background-color: var(--sklearn-color-fitted-level-2);\n",
       "}\n",
       "\n",
       "/* Estimator-specific style */\n",
       "\n",
       "/* Colorize estimator box */\n",
       "#sk-container-id-3 div.sk-estimator input.sk-toggleable__control:checked~label.sk-toggleable__label {\n",
       "  /* unfitted */\n",
       "  background-color: var(--sklearn-color-unfitted-level-2);\n",
       "}\n",
       "\n",
       "#sk-container-id-3 div.sk-estimator.fitted input.sk-toggleable__control:checked~label.sk-toggleable__label {\n",
       "  /* fitted */\n",
       "  background-color: var(--sklearn-color-fitted-level-2);\n",
       "}\n",
       "\n",
       "#sk-container-id-3 div.sk-label label.sk-toggleable__label,\n",
       "#sk-container-id-3 div.sk-label label {\n",
       "  /* The background is the default theme color */\n",
       "  color: var(--sklearn-color-text-on-default-background);\n",
       "}\n",
       "\n",
       "/* On hover, darken the color of the background */\n",
       "#sk-container-id-3 div.sk-label:hover label.sk-toggleable__label {\n",
       "  color: var(--sklearn-color-text);\n",
       "  background-color: var(--sklearn-color-unfitted-level-2);\n",
       "}\n",
       "\n",
       "/* Label box, darken color on hover, fitted */\n",
       "#sk-container-id-3 div.sk-label.fitted:hover label.sk-toggleable__label.fitted {\n",
       "  color: var(--sklearn-color-text);\n",
       "  background-color: var(--sklearn-color-fitted-level-2);\n",
       "}\n",
       "\n",
       "/* Estimator label */\n",
       "\n",
       "#sk-container-id-3 div.sk-label label {\n",
       "  font-family: monospace;\n",
       "  font-weight: bold;\n",
       "  display: inline-block;\n",
       "  line-height: 1.2em;\n",
       "}\n",
       "\n",
       "#sk-container-id-3 div.sk-label-container {\n",
       "  text-align: center;\n",
       "}\n",
       "\n",
       "/* Estimator-specific */\n",
       "#sk-container-id-3 div.sk-estimator {\n",
       "  font-family: monospace;\n",
       "  border: 1px dotted var(--sklearn-color-border-box);\n",
       "  border-radius: 0.25em;\n",
       "  box-sizing: border-box;\n",
       "  margin-bottom: 0.5em;\n",
       "  /* unfitted */\n",
       "  background-color: var(--sklearn-color-unfitted-level-0);\n",
       "}\n",
       "\n",
       "#sk-container-id-3 div.sk-estimator.fitted {\n",
       "  /* fitted */\n",
       "  background-color: var(--sklearn-color-fitted-level-0);\n",
       "}\n",
       "\n",
       "/* on hover */\n",
       "#sk-container-id-3 div.sk-estimator:hover {\n",
       "  /* unfitted */\n",
       "  background-color: var(--sklearn-color-unfitted-level-2);\n",
       "}\n",
       "\n",
       "#sk-container-id-3 div.sk-estimator.fitted:hover {\n",
       "  /* fitted */\n",
       "  background-color: var(--sklearn-color-fitted-level-2);\n",
       "}\n",
       "\n",
       "/* Specification for estimator info (e.g. \"i\" and \"?\") */\n",
       "\n",
       "/* Common style for \"i\" and \"?\" */\n",
       "\n",
       ".sk-estimator-doc-link,\n",
       "a:link.sk-estimator-doc-link,\n",
       "a:visited.sk-estimator-doc-link {\n",
       "  float: right;\n",
       "  font-size: smaller;\n",
       "  line-height: 1em;\n",
       "  font-family: monospace;\n",
       "  background-color: var(--sklearn-color-background);\n",
       "  border-radius: 1em;\n",
       "  height: 1em;\n",
       "  width: 1em;\n",
       "  text-decoration: none !important;\n",
       "  margin-left: 0.5em;\n",
       "  text-align: center;\n",
       "  /* unfitted */\n",
       "  border: var(--sklearn-color-unfitted-level-1) 1pt solid;\n",
       "  color: var(--sklearn-color-unfitted-level-1);\n",
       "}\n",
       "\n",
       ".sk-estimator-doc-link.fitted,\n",
       "a:link.sk-estimator-doc-link.fitted,\n",
       "a:visited.sk-estimator-doc-link.fitted {\n",
       "  /* fitted */\n",
       "  border: var(--sklearn-color-fitted-level-1) 1pt solid;\n",
       "  color: var(--sklearn-color-fitted-level-1);\n",
       "}\n",
       "\n",
       "/* On hover */\n",
       "div.sk-estimator:hover .sk-estimator-doc-link:hover,\n",
       ".sk-estimator-doc-link:hover,\n",
       "div.sk-label-container:hover .sk-estimator-doc-link:hover,\n",
       ".sk-estimator-doc-link:hover {\n",
       "  /* unfitted */\n",
       "  background-color: var(--sklearn-color-unfitted-level-3);\n",
       "  color: var(--sklearn-color-background);\n",
       "  text-decoration: none;\n",
       "}\n",
       "\n",
       "div.sk-estimator.fitted:hover .sk-estimator-doc-link.fitted:hover,\n",
       ".sk-estimator-doc-link.fitted:hover,\n",
       "div.sk-label-container:hover .sk-estimator-doc-link.fitted:hover,\n",
       ".sk-estimator-doc-link.fitted:hover {\n",
       "  /* fitted */\n",
       "  background-color: var(--sklearn-color-fitted-level-3);\n",
       "  color: var(--sklearn-color-background);\n",
       "  text-decoration: none;\n",
       "}\n",
       "\n",
       "/* Span, style for the box shown on hovering the info icon */\n",
       ".sk-estimator-doc-link span {\n",
       "  display: none;\n",
       "  z-index: 9999;\n",
       "  position: relative;\n",
       "  font-weight: normal;\n",
       "  right: .2ex;\n",
       "  padding: .5ex;\n",
       "  margin: .5ex;\n",
       "  width: min-content;\n",
       "  min-width: 20ex;\n",
       "  max-width: 50ex;\n",
       "  color: var(--sklearn-color-text);\n",
       "  box-shadow: 2pt 2pt 4pt #999;\n",
       "  /* unfitted */\n",
       "  background: var(--sklearn-color-unfitted-level-0);\n",
       "  border: .5pt solid var(--sklearn-color-unfitted-level-3);\n",
       "}\n",
       "\n",
       ".sk-estimator-doc-link.fitted span {\n",
       "  /* fitted */\n",
       "  background: var(--sklearn-color-fitted-level-0);\n",
       "  border: var(--sklearn-color-fitted-level-3);\n",
       "}\n",
       "\n",
       ".sk-estimator-doc-link:hover span {\n",
       "  display: block;\n",
       "}\n",
       "\n",
       "/* \"?\"-specific style due to the `<a>` HTML tag */\n",
       "\n",
       "#sk-container-id-3 a.estimator_doc_link {\n",
       "  float: right;\n",
       "  font-size: 1rem;\n",
       "  line-height: 1em;\n",
       "  font-family: monospace;\n",
       "  background-color: var(--sklearn-color-background);\n",
       "  border-radius: 1rem;\n",
       "  height: 1rem;\n",
       "  width: 1rem;\n",
       "  text-decoration: none;\n",
       "  /* unfitted */\n",
       "  color: var(--sklearn-color-unfitted-level-1);\n",
       "  border: var(--sklearn-color-unfitted-level-1) 1pt solid;\n",
       "}\n",
       "\n",
       "#sk-container-id-3 a.estimator_doc_link.fitted {\n",
       "  /* fitted */\n",
       "  border: var(--sklearn-color-fitted-level-1) 1pt solid;\n",
       "  color: var(--sklearn-color-fitted-level-1);\n",
       "}\n",
       "\n",
       "/* On hover */\n",
       "#sk-container-id-3 a.estimator_doc_link:hover {\n",
       "  /* unfitted */\n",
       "  background-color: var(--sklearn-color-unfitted-level-3);\n",
       "  color: var(--sklearn-color-background);\n",
       "  text-decoration: none;\n",
       "}\n",
       "\n",
       "#sk-container-id-3 a.estimator_doc_link.fitted:hover {\n",
       "  /* fitted */\n",
       "  background-color: var(--sklearn-color-fitted-level-3);\n",
       "}\n",
       "</style><div id=\"sk-container-id-3\" class=\"sk-top-container\"><div class=\"sk-text-repr-fallback\"><pre>LinearRegression()</pre><b>In a Jupyter environment, please rerun this cell to show the HTML representation or trust the notebook. <br />On GitHub, the HTML representation is unable to render, please try loading this page with nbviewer.org.</b></div><div class=\"sk-container\" hidden><div class=\"sk-item\"><div class=\"sk-estimator fitted sk-toggleable\"><input class=\"sk-toggleable__control sk-hidden--visually\" id=\"sk-estimator-id-3\" type=\"checkbox\" checked><label for=\"sk-estimator-id-3\" class=\"sk-toggleable__label fitted sk-toggleable__label-arrow\"><div><div>LinearRegression</div></div><div><a class=\"sk-estimator-doc-link fitted\" rel=\"noreferrer\" target=\"_blank\" href=\"https://scikit-learn.org/1.6/modules/generated/sklearn.linear_model.LinearRegression.html\">?<span>Documentation for LinearRegression</span></a><span class=\"sk-estimator-doc-link fitted\">i<span>Fitted</span></span></div></label><div class=\"sk-toggleable__content fitted\"><pre>LinearRegression()</pre></div> </div></div></div></div>"
      ],
      "text/plain": [
       "LinearRegression()"
      ]
     },
     "execution_count": 75,
     "metadata": {},
     "output_type": "execute_result"
    }
   ],
   "source": [
    "from sklearn.linear_model import LinearRegression\n",
    "\n",
    "model = LinearRegression()\n",
    "model.fit(X_train, y_train)\n"
   ]
  },
  {
   "cell_type": "markdown",
   "id": "0f7f56d3-067f-4de3-9d8d-58006cf177e2",
   "metadata": {},
   "source": [
    "## 6. Model Evaluation"
   ]
  },
  {
   "cell_type": "code",
   "execution_count": 76,
   "id": "789b2924-6046-4c59-9cef-6be20b010f7b",
   "metadata": {},
   "outputs": [
    {
     "name": "stdout",
     "output_type": "stream",
     "text": [
      "R² Score: 0.23020021682533653\n",
      "MSE: 234920020059.23993\n"
     ]
    }
   ],
   "source": [
    "from sklearn.metrics import mean_squared_error, r2_score\n",
    "\n",
    "y_pred = model.predict(X_test)\n",
    "\n",
    "print(\"R² Score:\", r2_score(y_test, y_pred))\n",
    "print(\"MSE:\", mean_squared_error(y_test, y_pred))\n"
   ]
  },
  {
   "cell_type": "markdown",
   "id": "cd941e4d-cb69-4952-bf2e-a2571986b894",
   "metadata": {},
   "source": [
    "Since the R² Score is 0.23020021682533653 the model prediction is less efficient. Hence we need to go for the polynomial regression pipeline"
   ]
  },
  {
   "cell_type": "code",
   "execution_count": 77,
   "id": "b8d1d451-df12-435d-86ed-f46f910b67a0",
   "metadata": {},
   "outputs": [],
   "source": [
    "from sklearn.pipeline import Pipeline\n",
    "from sklearn.preprocessing import PolynomialFeatures, StandardScaler\n",
    "pipeline = Pipeline([\n",
    "    ('poly', PolynomialFeatures(degree=2, include_bias=False)),\n",
    "    ('scaler', StandardScaler()),\n",
    "    ('model', LinearRegression())\n",
    "])\n",
    "pipeline.fit(X_train, y_train)\n",
    "y_pred = pipeline.predict(X_test)"
   ]
  },
  {
   "cell_type": "code",
   "execution_count": 78,
   "id": "b3556c05-6fbf-49ec-b33f-05912371ea47",
   "metadata": {},
   "outputs": [
    {
     "name": "stdout",
     "output_type": "stream",
     "text": [
      " R² Score with Polynomial Regression:  0.3103069700042731\n"
     ]
    }
   ],
   "source": [
    "r2 = r2_score(y_test, y_pred)\n",
    "print(f\" R² Score with Polynomial Regression: \",r2)"
   ]
  },
  {
   "cell_type": "markdown",
   "id": "1b7f840d-c841-4fb3-8e09-9d3de4fa869d",
   "metadata": {},
   "source": [
    "#### The R² score is still around 0.32, even after adding polynomial features, it means that your multiple linear regression model is underfitting the data. we can switch from Multiple Linear Regression to RandomForest alogrithm"
   ]
  },
  {
   "cell_type": "markdown",
   "id": "c52f4a82-27f4-453f-a289-f2c69886cfa0",
   "metadata": {},
   "source": [
    "## 7. Save the Model using pickle"
   ]
  },
  {
   "cell_type": "code",
   "execution_count": 79,
   "id": "a8cb2394-c57f-4ee1-8b4b-b9c5b2af4bd4",
   "metadata": {},
   "outputs": [],
   "source": [
    "import pickle\n",
    "\n",
    "with open('car_price_model.pkl', 'wb') as f:\n",
    "    pickle.dump(model, f)\n"
   ]
  },
  {
   "cell_type": "code",
   "execution_count": 80,
   "id": "df1051b0-80f8-4fc6-8b19-714d52733b18",
   "metadata": {},
   "outputs": [],
   "source": [
    "\n",
    "with open('brand_encoder.pkl', 'wb') as f:\n",
    "    pickle.dump(le_brand, f)\n",
    "\n",
    "with open('fuel_encoder.pkl', 'wb') as f:\n",
    "    pickle.dump(le_fuel, f)"
   ]
  },
  {
   "cell_type": "markdown",
   "id": "4cb765e8-4dac-4fcc-a860-c7d625e1a857",
   "metadata": {},
   "source": [
    "# 1B. RandomForest Model"
   ]
  },
  {
   "cell_type": "markdown",
   "id": "831935b8-04a4-4f87-b983-8abb990b92e0",
   "metadata": {},
   "source": [
    "### 1A. Random Forest with Hyperparameter Tuning"
   ]
  },
  {
   "cell_type": "code",
   "execution_count": 81,
   "id": "fb58bada-f765-4f8b-8e77-7b951616151c",
   "metadata": {},
   "outputs": [],
   "source": [
    "from sklearn.ensemble import RandomForestRegressor\n",
    "random_forest_model = RandomForestRegressor(\n",
    "    n_estimators=150,       \n",
    "    max_depth=12,         \n",
    "    min_samples_split=5,   \n",
    "    random_state=42\n",
    ")"
   ]
  },
  {
   "cell_type": "code",
   "execution_count": 82,
   "id": "eb98cbeb-bcae-49bc-ad41-61523250e5c0",
   "metadata": {},
   "outputs": [],
   "source": [
    "brand_encoder = LabelEncoder()\n",
    "fuel_encoder = LabelEncoder()\n",
    "df['Brand'] = brand_encoder.fit_transform(df['Brand'])\n",
    "df['Fuel'] = fuel_encoder.fit_transform(df['Fuel'])"
   ]
  },
  {
   "cell_type": "markdown",
   "id": "42f3698b-3da0-4b31-a928-cbcf8e336e81",
   "metadata": {},
   "source": [
    "## 1B. Fitting the model"
   ]
  },
  {
   "cell_type": "code",
   "execution_count": 83,
   "id": "56f38c68-c565-4e7e-8701-188d4d40d92e",
   "metadata": {},
   "outputs": [],
   "source": [
    "random_forest_model.fit(X_train, y_train)\n",
    "y_pred = model.predict(X_test)"
   ]
  },
  {
   "cell_type": "markdown",
   "id": "3e26f68e-2991-4a0c-912a-b0aa61165c49",
   "metadata": {},
   "source": [
    "\n",
    " ## 1C. Evaluation"
   ]
  },
  {
   "cell_type": "code",
   "execution_count": 84,
   "id": "0ad6c4ca-4591-4abf-9851-aceb4ebd4c70",
   "metadata": {},
   "outputs": [
    {
     "name": "stdout",
     "output_type": "stream",
     "text": [
      "R² Score: 0.23020021682533653\n",
      "MSE: 234920020059.23993\n"
     ]
    }
   ],
   "source": [
    "print(\"R² Score:\", r2_score(y_test, y_pred))\n",
    "print(\"MSE:\", mean_squared_error(y_test, y_pred))"
   ]
  },
  {
   "cell_type": "markdown",
   "id": "a2cb1d64-8868-45e0-95fa-9d3e3f982f78",
   "metadata": {},
   "source": [
    "## 1D. Saving the models and Encoders"
   ]
  },
  {
   "cell_type": "code",
   "execution_count": 85,
   "id": "77537633-9d49-4c46-9872-877b116dc5c2",
   "metadata": {},
   "outputs": [],
   "source": [
    "import pickle\n",
    "with open(\"car_price_model_random_forest_model.pkl\", \"wb\") as f:\n",
    "    pickle.dump(random_forest_model, f)\n",
    "with open(\"brand_encoder_random_forest_model.pkl\", \"wb\") as f:\n",
    "    pickle.dump(brand_encoder, f)\n",
    "with open(\"fuel_encoder_random_forest_model.pkl\", \"wb\") as f:\n",
    "    pickle.dump(fuel_encoder, f)"
   ]
  },
  {
   "cell_type": "markdown",
   "id": "795e0ab1-4e6e-4970-af04-d1c04a3156fd",
   "metadata": {},
   "source": [
    "## Performed the following steps:\n",
    "\n",
    "* Cleaned and encoded categorical data using Label Encoding.\n",
    "\n",
    "* Created visualizations to understand feature relationships.\n",
    "\n",
    "* Trained and evaluated a Multiple Linear Regression model.\n",
    "\n",
    "* Achieved performance metrics such as R² Score and Mean Squared Error (MSE) to assess accuracy.\n",
    "\n",
    "* Trained and evaluated a RandomForest model\n",
    "\n",
    "* Saved the model using Pickle and deployed it through a Streamlit web application, allowing users to input features and receive real-time price predictions."
   ]
  },
  {
   "cell_type": "code",
   "execution_count": null,
   "id": "a2a85db7-a1cd-4794-afd1-1bc3264dbe1a",
   "metadata": {},
   "outputs": [],
   "source": []
  },
  {
   "cell_type": "code",
   "execution_count": null,
   "id": "cb77d4a1-6b41-4b13-81db-b32973e5b7f2",
   "metadata": {},
   "outputs": [],
   "source": []
  },
  {
   "cell_type": "code",
   "execution_count": null,
   "id": "f395d6a9-6074-41d7-ad56-d62ab40e52ce",
   "metadata": {},
   "outputs": [],
   "source": []
  },
  {
   "cell_type": "code",
   "execution_count": null,
   "id": "95f7ccdf-e8e5-4fd6-aef4-e4a48fb767ef",
   "metadata": {},
   "outputs": [],
   "source": []
  },
  {
   "cell_type": "code",
   "execution_count": null,
   "id": "39299dae-e09a-47d5-82b5-1a7a5958f832",
   "metadata": {},
   "outputs": [],
   "source": []
  },
  {
   "cell_type": "code",
   "execution_count": null,
   "id": "35017803-37f0-4239-b2cc-ad7b312b3f1c",
   "metadata": {},
   "outputs": [],
   "source": []
  }
 ],
 "metadata": {
  "kernelspec": {
   "display_name": "Python 3 (ipykernel)",
   "language": "python",
   "name": "python3"
  },
  "language_info": {
   "codemirror_mode": {
    "name": "ipython",
    "version": 3
   },
   "file_extension": ".py",
   "mimetype": "text/x-python",
   "name": "python",
   "nbconvert_exporter": "python",
   "pygments_lexer": "ipython3",
   "version": "3.13.0"
  }
 },
 "nbformat": 4,
 "nbformat_minor": 5
}
