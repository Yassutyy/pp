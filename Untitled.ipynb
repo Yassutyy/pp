{
 "cells": [
  {
   "cell_type": "code",
   "execution_count": 1,
   "id": "2f6bf8de-f195-4a38-aaf9-e1723ee04cb1",
   "metadata": {},
   "outputs": [
    {
     "name": "stdout",
     "output_type": "stream",
     "text": [
      "Linear Regression R²: 0.23020021682533665\n",
      "Linear Regression MSE: 234920020059.23987\n",
      "Random Forest R²: 0.6475979934592556\n",
      "Random Forest MSE: 107542621152.80994\n",
      "✅ Models and encoders saved successfully.\n"
     ]
    }
   ],
   "source": [
    "import pandas as pd\n",
    "from sklearn.model_selection import train_test_split\n",
    "from sklearn.preprocessing import LabelEncoder\n",
    "from sklearn.linear_model import LinearRegression\n",
    "from sklearn.ensemble import RandomForestRegressor\n",
    "from sklearn.metrics import r2_score, mean_squared_error\n",
    "import pickle\n",
    "\n",
    "# Load the dataset\n",
    "df = pd.read_csv('car_data_set.csv')  # Make sure this is the correct file name\n",
    "\n",
    "# Encode categorical features\n",
    "le_brand = LabelEncoder()\n",
    "le_fuel = LabelEncoder()\n",
    "\n",
    "df['Brand'] = le_brand.fit_transform(df['Brand'])\n",
    "df['Fuel'] = le_fuel.fit_transform(df['Fuel'])\n",
    "\n",
    "# Create car age feature\n",
    "df['Age'] = 2025 - df['Year']\n",
    "df = df.drop('Year', axis=1)\n",
    "\n",
    "# Define X and y\n",
    "X = df[['Brand', 'Age', 'KM_Driven', 'Fuel']]\n",
    "y = df['Selling_Price']\n",
    "\n",
    "# Split the data\n",
    "X_train, X_test, y_train, y_test = train_test_split(X, y, test_size=0.2, random_state=42)\n",
    "\n",
    "# ---------- Linear Regression ----------\n",
    "model_lr = LinearRegression()\n",
    "model_lr.fit(X_train, y_train)\n",
    "\n",
    "# Evaluate\n",
    "y_pred_lr = model_lr.predict(X_test)\n",
    "print(\"Linear Regression R²:\", r2_score(y_test, y_pred_lr))\n",
    "print(\"Linear Regression MSE:\", mean_squared_error(y_test, y_pred_lr))\n",
    "\n",
    "# Save linear model\n",
    "with open('model_lr.pkl', 'wb') as f:\n",
    "    pickle.dump(model_lr, f)\n",
    "\n",
    "# ---------- Random Forest ----------\n",
    "model_rf = RandomForestRegressor(n_estimators=100, random_state=42)\n",
    "model_rf.fit(X_train, y_train)\n",
    "\n",
    "# Evaluate\n",
    "y_pred_rf = model_rf.predict(X_test)\n",
    "print(\"Random Forest R²:\", r2_score(y_test, y_pred_rf))\n",
    "print(\"Random Forest MSE:\", mean_squared_error(y_test, y_pred_rf))\n",
    "\n",
    "# Save RF model\n",
    "with open('model_rf.pkl', 'wb') as f:\n",
    "    pickle.dump(model_rf, f)\n",
    "\n",
    "# ---------- Save encoders ----------\n",
    "with open('brand_encoder.pkl', 'wb') as f:\n",
    "    pickle.dump(le_brand, f)\n",
    "\n",
    "with open('fuel_encoder.pkl', 'wb') as f:\n",
    "    pickle.dump(le_fuel, f)\n",
    "\n",
    "print(\"✅ Models and encoders saved successfully.\")\n"
   ]
  },
  {
   "cell_type": "code",
   "execution_count": null,
   "id": "d5b2ec82-1f98-4c4e-9dc3-42c82c256da3",
   "metadata": {},
   "outputs": [],
   "source": []
  }
 ],
 "metadata": {
  "kernelspec": {
   "display_name": "Python 3 (ipykernel)",
   "language": "python",
   "name": "python3"
  },
  "language_info": {
   "codemirror_mode": {
    "name": "ipython",
    "version": 3
   },
   "file_extension": ".py",
   "mimetype": "text/x-python",
   "name": "python",
   "nbconvert_exporter": "python",
   "pygments_lexer": "ipython3",
   "version": "3.13.0"
  }
 },
 "nbformat": 4,
 "nbformat_minor": 5
}
